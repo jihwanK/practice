{
  "nbformat": 4,
  "nbformat_minor": 0,
  "metadata": {
    "colab": {
      "provenance": [],
      "machine_shape": "hm",
      "mount_file_id": "1GyGjvuwGfOlLxGf_DBXhdiKABLtPDDfB",
      "authorship_tag": "ABX9TyOxVJQJD924eTiQr5RwfqVe",
      "include_colab_link": true
    },
    "kernelspec": {
      "name": "python3",
      "display_name": "Python 3"
    },
    "language_info": {
      "name": "python"
    }
  },
  "cells": [
    {
      "cell_type": "markdown",
      "metadata": {
        "id": "view-in-github",
        "colab_type": "text"
      },
      "source": [
        "<a href=\"https://colab.research.google.com/github/jihwanK/practice/blob/master/AIML/kaggle/playground/s4e7/kaggle_nn.ipynb\" target=\"_parent\"><img src=\"https://colab.research.google.com/assets/colab-badge.svg\" alt=\"Open In Colab\"/></a>"
      ]
    },
    {
      "cell_type": "markdown",
      "source": [
        "# Preprocess"
      ],
      "metadata": {
        "id": "01GBygXt5s73"
      }
    },
    {
      "cell_type": "code",
      "source": [
        "%%bash\n",
        "apt install htop\n",
        "pip install glances[gpu]"
      ],
      "metadata": {
        "id": "OWtUUcnoBf-B"
      },
      "execution_count": null,
      "outputs": []
    },
    {
      "cell_type": "code",
      "execution_count": null,
      "metadata": {
        "id": "mz9T4_cuIq6S"
      },
      "outputs": [],
      "source": [
        "from google.colab import userdata\n",
        "import os\n",
        "import kaggle\n",
        "os.environ[\"KAGGLE_USERNAME\"] = userdata.get('kaggle_username')\n",
        "os.environ[\"KAGGLE_KEY\"] = userdata.get('kaggle_key')"
      ]
    },
    {
      "cell_type": "code",
      "source": [
        "import numpy as np\n",
        "import pandas as pd\n",
        "import seaborn as sns\n",
        "import matplotlib.pyplot as plt\n",
        "\n",
        "from sklearn.preprocessing import OneHotEncoder, StandardScaler, LabelEncoder\n",
        "from sklearn.model_selection import train_test_split, StratifiedKFold, KFold, GridSearchCV\n",
        "from imblearn.over_sampling import SMOTE\n",
        "\n",
        "from sklearn.metrics import accuracy_score, precision_score, recall_score, f1_score, roc_auc_score, confusion_matrix, classification_report\n",
        "\n",
        "from sklearn.linear_model import LogisticRegression\n",
        "from sklearn.ensemble import RandomForestClassifier\n",
        "from imblearn.ensemble import BalancedRandomForestClassifier\n",
        "from xgboost import XGBClassifier, XGBRFClassifier\n",
        "from lightgbm import LGBMClassifier\n",
        "# from catboost import CatBoostClassifier\n",
        "\n",
        "# import cupy as cp\n",
        "import xgboost as xgb"
      ],
      "metadata": {
        "id": "WfoVZDCNIzeZ"
      },
      "execution_count": 2,
      "outputs": []
    },
    {
      "cell_type": "code",
      "source": [
        "train_df = pd.read_csv(\"/content/drive/MyDrive/Colab/practice/dataset/kaggle/s4e7_train.csv\", usecols=lambda x: x != 'id') # filter out id\n",
        "X_test = pd.read_csv(\"/content/drive/MyDrive/Colab/practice/dataset/kaggle/s4e7_test.csv\", usecols=lambda x: x != 'id')\n",
        "test_id = pd.read_csv(\"/content/drive/MyDrive/Colab/practice/dataset/kaggle/s4e7_test.csv\", usecols=lambda x: x == 'id')"
      ],
      "metadata": {
        "id": "v30rFgujI0iP"
      },
      "execution_count": 3,
      "outputs": []
    },
    {
      "cell_type": "code",
      "source": [
        "X, y = train_df.drop(\"Response\", axis=1), train_df.loc[:,\"Response\"]"
      ],
      "metadata": {
        "id": "eXZuoraWI24C"
      },
      "execution_count": 4,
      "outputs": []
    },
    {
      "cell_type": "code",
      "source": [
        "X[\"Vehicle_Damage\"] = X[\"Vehicle_Damage\"].apply(lambda x: int(x == \"Yes\"))\n",
        "X[\"Gender\"] = X[\"Gender\"].apply(lambda x: int(x == \"Male\"))\n",
        "X[\"Vehicle_Age\"] = X[\"Vehicle_Age\"].map({\"< 1 Year\": 0, \"1-2 Year\": 1, \"> 2 Years\": 2})\n",
        "\n",
        "X_test[\"Vehicle_Damage\"] = X_test[\"Vehicle_Damage\"].apply(lambda x: int(x == \"Yes\"))\n",
        "X_test[\"Gender\"] = X_test[\"Gender\"].apply(lambda x: int(x == \"Male\"))\n",
        "X_test[\"Vehicle_Age\"] = X_test[\"Vehicle_Age\"].map({\"< 1 Year\": 0, \"1-2 Year\": 1, \"> 2 Years\": 2})"
      ],
      "metadata": {
        "id": "Mz1IKlbJI2oa"
      },
      "execution_count": 5,
      "outputs": []
    },
    {
      "cell_type": "code",
      "source": [
        "numerical_features = ['Age', 'Annual_Premium', 'Vintage']\n",
        "categorical_features = ['Gender', 'Vehicle_Age', 'Vehicle_Damage', 'Region_Code', 'Policy_Sales_Channel']"
      ],
      "metadata": {
        "id": "wU2jfgUUI5d7"
      },
      "execution_count": 6,
      "outputs": []
    },
    {
      "cell_type": "code",
      "source": [
        "scaler = StandardScaler()\n",
        "X[numerical_features] = scaler.fit_transform(X[numerical_features])\n",
        "X_test[numerical_features] = scaler.transform(X_test[numerical_features])"
      ],
      "metadata": {
        "id": "t48--ARCI5Yw"
      },
      "execution_count": null,
      "outputs": []
    },
    {
      "cell_type": "code",
      "source": [
        "encoder = OneHotEncoder(handle_unknown='infrequent_if_exist')\n",
        "X[categorical_features] = encoder.fit_transform(X[categorical_features])\n",
        "X_test[categorical_features] = encoder.transform(X_test[categorical_features])"
      ],
      "metadata": {
        "id": "iA64FyYfAEMF"
      },
      "execution_count": null,
      "outputs": []
    },
    {
      "cell_type": "code",
      "source": [
        "X.shape"
      ],
      "metadata": {
        "id": "GiSHlD-q-7oQ"
      },
      "execution_count": null,
      "outputs": []
    },
    {
      "cell_type": "code",
      "source": [
        "X_train, X_val, y_train, y_val = train_test_split(X, y, shuffle=True, test_size=30000, random_state=42)"
      ],
      "metadata": {
        "id": "8hqn_Ame_3G-"
      },
      "execution_count": null,
      "outputs": []
    },
    {
      "cell_type": "markdown",
      "source": [
        "# MLP"
      ],
      "metadata": {
        "id": "1WJ5XZ51-S1R"
      }
    },
    {
      "cell_type": "code",
      "source": [],
      "metadata": {
        "id": "_DdX6Tha-Skp"
      },
      "execution_count": null,
      "outputs": []
    },
    {
      "cell_type": "code",
      "source": [
        "kaggle.api.competition_submit()"
      ],
      "metadata": {
        "id": "CXq0CRon-Bpn"
      },
      "execution_count": null,
      "outputs": []
    }
  ]
}