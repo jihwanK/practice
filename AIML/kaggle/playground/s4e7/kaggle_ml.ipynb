{
  "nbformat": 4,
  "nbformat_minor": 0,
  "metadata": {
    "colab": {
      "provenance": [],
      "machine_shape": "hm",
      "gpuType": "L4",
      "mount_file_id": "18NDvXy8uBHQ7dYxpeE787FBWssymhFU6",
      "authorship_tag": "ABX9TyNsG7SruYtodyz19yMaZzaS",
      "include_colab_link": true
    },
    "kernelspec": {
      "name": "python3",
      "display_name": "Python 3"
    },
    "language_info": {
      "name": "python"
    },
    "accelerator": "GPU"
  },
  "cells": [
    {
      "cell_type": "markdown",
      "metadata": {
        "id": "view-in-github",
        "colab_type": "text"
      },
      "source": [
        "<a href=\"https://colab.research.google.com/github/jihwanK/practice/blob/master/AIML/kaggle/playground/s4e7/kaggle_ml.ipynb\" target=\"_parent\"><img src=\"https://colab.research.google.com/assets/colab-badge.svg\" alt=\"Open In Colab\"/></a>"
      ]
    },
    {
      "cell_type": "code",
      "execution_count": 1,
      "metadata": {
        "id": "mz9T4_cuIq6S"
      },
      "outputs": [],
      "source": [
        "%%bash\n",
        "\n",
        "mkdir /root/.kaggle\n",
        "echo '{\"username\":\"computerandgyein\",\"key\":\"3b6ac6126c02fe055ad5ff7d321177b5\"}' > /root/.kaggle/kaggle.json\n",
        "chmod 600 /root/.kaggle/kaggle.json"
      ]
    },
    {
      "cell_type": "markdown",
      "source": [
        "# Preprocess"
      ],
      "metadata": {
        "id": "01GBygXt5s73"
      }
    },
    {
      "cell_type": "code",
      "source": [
        "import numpy as np\n",
        "import pandas as pd\n",
        "import seaborn as sns\n",
        "import matplotlib.pyplot as plt\n",
        "\n",
        "from sklearn.preprocessing import OneHotEncoder, StandardScaler, LabelEncoder\n",
        "from sklearn.model_selection import train_test_split, StratifiedKFold, KFold, GridSearchCV\n",
        "from imblearn.over_sampling import SMOTE\n",
        "\n",
        "from sklearn.metrics import accuracy_score, precision_score, recall_score, f1_score, roc_auc_score, confusion_matrix, classification_report\n",
        "\n",
        "from sklearn.linear_model import LogisticRegression\n",
        "from sklearn.ensemble import RandomForestClassifier\n",
        "from imblearn.ensemble import BalancedRandomForestClassifier\n",
        "from xgboost import XGBClassifier, XGBRFClassifier\n",
        "from lightgbm import LGBMClassifier\n",
        "# from catboost import CatBoostClassifier\n",
        "\n",
        "# import cupy as cp\n",
        "import xgboost as xgb"
      ],
      "metadata": {
        "id": "WfoVZDCNIzeZ"
      },
      "execution_count": 2,
      "outputs": []
    },
    {
      "cell_type": "code",
      "source": [
        "train_df = pd.read_csv(\"/content/drive/MyDrive/Colab/practice/dataset/kaggle/s4e7_train.csv\", usecols=lambda x: x != 'id') # filter out id\n",
        "X_test = pd.read_csv(\"/content/drive/MyDrive/Colab/practice/dataset/kaggle/s4e7_test.csv\", usecols=lambda x: x != 'id')\n",
        "test_id = pd.read_csv(\"/content/drive/MyDrive/Colab/practice/dataset/kaggle/s4e7_test.csv\", usecols=lambda x: x == 'id')"
      ],
      "metadata": {
        "id": "v30rFgujI0iP"
      },
      "execution_count": null,
      "outputs": []
    },
    {
      "cell_type": "code",
      "source": [
        "X, y = train_df.drop(\"Response\", axis=1), train_df.loc[:,\"Response\"]"
      ],
      "metadata": {
        "id": "eXZuoraWI24C"
      },
      "execution_count": null,
      "outputs": []
    },
    {
      "cell_type": "code",
      "source": [
        "X[\"Vehicle_Damage\"] = X[\"Vehicle_Damage\"].apply(lambda x: int(x == \"Yes\"))\n",
        "X[\"Gender\"] = X[\"Gender\"].apply(lambda x: int(x == \"Male\"))\n",
        "X[\"Vehicle_Age\"] = X[\"Vehicle_Age\"].map({\"< 1 Year\": 0, \"1-2 Year\": 1, \"> 2 Years\": 2})\n",
        "# X = pd.get_dummies(X, columns=['Vehicle_Age'], dtype=int)\n",
        "\n",
        "X_test[\"Vehicle_Damage\"] = X_test[\"Vehicle_Damage\"].apply(lambda x: int(x == \"Yes\"))\n",
        "X_test[\"Gender\"] = X_test[\"Gender\"].apply(lambda x: int(x == \"Male\"))\n",
        "X_test[\"Vehicle_Age\"] = X_test[\"Vehicle_Age\"].map({\"< 1 Year\": 0, \"1-2 Year\": 1, \"> 2 Years\": 2})\n",
        "# X_test = pd.get_dummies(X_test, columns=['Vehicle_Age'], dtype=int)"
      ],
      "metadata": {
        "id": "Mz1IKlbJI2oa"
      },
      "execution_count": null,
      "outputs": []
    },
    {
      "cell_type": "code",
      "source": [
        "numerical_features = ['Age', 'Annual_Premium', 'Vintage']\n",
        "categorical_features = ['Gender', 'Vehicle_Age', 'Vehicle_Damage', 'Region_Code', 'Policy_Sales_Channel']"
      ],
      "metadata": {
        "id": "wU2jfgUUI5d7"
      },
      "execution_count": null,
      "outputs": []
    },
    {
      "cell_type": "code",
      "source": [
        "scaler = StandardScaler()\n",
        "X[numerical_features] = scaler.fit_transform(X[numerical_features])\n",
        "X_test[numerical_features] = scaler.transform(X_test[numerical_features])\n",
        "\n",
        "X_train, X_val, y_train, y_val = train_test_split(X, y, shuffle=True, test_size=30000, random_state=42)"
      ],
      "metadata": {
        "id": "t48--ARCI5Yw"
      },
      "execution_count": null,
      "outputs": []
    },
    {
      "cell_type": "markdown",
      "source": [
        "# Balanced Random Forest"
      ],
      "metadata": {
        "id": "4UBNXwoDmLdU"
      }
    },
    {
      "cell_type": "code",
      "source": [
        "hyperparameters = {\n",
        "    'sampling_strategy': [\"auto\", \"all\"],\n",
        "    'replacement': [False, True],\n",
        "    'bootstrap': [True, False],\n",
        "}\n",
        "\n",
        "# model = BalancedRandomForestClassifier(device='gpu', n_estimators=1000, learning_rate=0.05, num_leaves=50, scale_pos_weight=10)\n",
        "model = BalancedRandomForestClassifier(n_estimators=300, n_jobs=4)\n",
        "\n",
        "model.fit(\n",
        "    X_train,\n",
        "    y_train,\n",
        ")\n",
        "\n",
        "print(\"\\n[Validation Result]\")\n",
        "y_pred = model.predict(X_val)\n",
        "y_prob = model.predict_proba(X_val)[:, 1]\n",
        "\n",
        "print(f\"F1 score: {f1_score(y_val, y_pred)}\")\n",
        "print(f\"ROC-AUC score: {roc_auc_score(y_val, y_prob)}\")\n",
        "print(f\"Confusion Matrix: \\n{confusion_matrix(y_val, y_pred)}\")\n",
        "\n",
        "test_proba = model.predict_proba(X_test)[:, 1]\n",
        "result_df = pd.concat([test_id, pd.DataFrame(test_proba, columns=[\"Response\"])], axis=1)\n",
        "result_df.to_csv(f\"b_random_forest.csv\", index=False)\n"
      ],
      "metadata": {
        "id": "4MU0HhsFI7yf"
      },
      "execution_count": null,
      "outputs": []
    },
    {
      "cell_type": "markdown",
      "source": [
        "# XGBoost"
      ],
      "metadata": {
        "id": "iMlAKUqa5yQi"
      }
    },
    {
      "cell_type": "code",
      "source": [
        "model = XGBClassifier(\n",
        "    device='gpu',\n",
        "    n_estimators=1000,\n",
        "    learning_rate=0.01,\n",
        "    scale_pos_weight=7\n",
        ")\n",
        "\n",
        "model.fit(\n",
        "    X_train,\n",
        "    y_train,\n",
        ")\n",
        "\n",
        "print(\"\\n[Validation Result]\")\n",
        "y_pred = model.predict(X_val)\n",
        "y_prob = model.predict_proba(X_val)[:, 1]\n",
        "\n",
        "accuracy = accuracy_score(y_val, y_pred)\n",
        "conf_matrix = confusion_matrix(y_val, y_pred)\n",
        "class_report = classification_report(y_val, y_pred)\n",
        "roc_auc = roc_auc_score(y_val, y_prob)\n",
        "precision = precision_score(y_val, y_pred)\n",
        "f1 = f1_score(y_val, y_pred)\n",
        "\n",
        "print(f'Accuracy: {accuracy:.5f}')\n",
        "print(f'Precision: {precision:.5f}')\n",
        "print(f'ROC-AUC: {roc_auc:.5f}')\n",
        "print(f'F1 Score: {f1:.5f}')\n",
        "print(f'Confusion Matrix:\\n {conf_matrix}')\n",
        "print(f'Classification Report:\\n {class_report} \\n')\n",
        "\n",
        "test_proba = model.predict_proba(X_test)[:, 1]\n",
        "result_df = pd.concat([test_id, pd.DataFrame(test_proba, columns=[\"Response\"])], axis=1)\n",
        "result_df.to_csv(f\"xgb-est3k-lr05-wght.csv\", index=False)\n"
      ],
      "metadata": {
        "colab": {
          "base_uri": "https://localhost:8080/"
        },
        "id": "j12XcTLa47Lb",
        "outputId": "eed666f6-8085-4978-d738-e7413adc28df"
      },
      "execution_count": 13,
      "outputs": [
        {
          "output_type": "stream",
          "name": "stdout",
          "text": [
            "\n",
            "[Validation Result]\n",
            "Accuracy: 0.7265\n",
            "Precision: 0.2959\n",
            "ROC-AUC: 0.8780\n",
            "F1 Score: 0.4476\n",
            "Confusion Matrix:\n",
            " [[18470  7908]\n",
            " [  298  3324]]\n",
            "Classification Report:\n",
            "               precision    recall  f1-score   support\n",
            "\n",
            "           0       0.98      0.70      0.82     26378\n",
            "           1       0.30      0.92      0.45      3622\n",
            "\n",
            "    accuracy                           0.73     30000\n",
            "   macro avg       0.64      0.81      0.63     30000\n",
            "weighted avg       0.90      0.73      0.77     30000\n",
            " \n",
            "\n"
          ]
        }
      ]
    },
    {
      "cell_type": "markdown",
      "source": [
        "# Catboost"
      ],
      "metadata": {
        "id": "McJDjj_POajw"
      }
    },
    {
      "cell_type": "code",
      "source": [
        "model = CatBoostClassifier(\n",
        "    iterations=10_000,\n",
        "    # scale_pos_weight=1.5,\n",
        "    early_stopping_rounds=100,\n",
        "    learning_rate=0.1,\n",
        "    depth=7,\n",
        "    verbose=500,\n",
        "    eval_metric=\"AUC\",\n",
        "    # custom_metric=[\"Recall\", \"Precision\"],\n",
        "    task_type=\"GPU\",\n",
        "    devices='0',\n",
        ")\n",
        "\n",
        "model.fit(\n",
        "    X_train,\n",
        "    y_train,\n",
        ")\n",
        "\n",
        "print(\"\\n[Validation Result]\")\n",
        "y_pred = model.predict(X_val)\n",
        "y_prob = model.predict_proba(X_val)[:, 1]\n",
        "\n",
        "accuracy = accuracy_score(y_val, y_pred)\n",
        "conf_matrix = confusion_matrix(y_val, y_pred)\n",
        "class_report = classification_report(y_val, y_pred)\n",
        "roc_auc = roc_auc_score(y_val, y_prob)\n",
        "precision = precision_score(y_val, y_pred)\n",
        "f1 = f1_score(y_val, y_pred)\n",
        "\n",
        "print(f'Accuracy: {accuracy:.5f}')\n",
        "print(f'Precision: {precision:.5f}')\n",
        "print(f'ROC-AUC: {roc_auc:.5f}')\n",
        "print(f'F1 Score: {f1:.5f}')\n",
        "print(f'Confusion Matrix:\\n {conf_matrix}')\n",
        "print(f'Classification Report:\\n {class_report} \\n')\n",
        "\n",
        "test_proba = model.predict_proba(X_test)[:, 1]\n",
        "result_df = pd.concat([test_id, pd.DataFrame(test_proba, columns=[\"Response\"])], axis=1)\n",
        "result_df.to_csv(f\"xgb-est3k-lr05-wght.csv\", index=False)\n"
      ],
      "metadata": {
        "id": "8KXcsSgR5K3u"
      },
      "execution_count": null,
      "outputs": []
    }
  ]
}